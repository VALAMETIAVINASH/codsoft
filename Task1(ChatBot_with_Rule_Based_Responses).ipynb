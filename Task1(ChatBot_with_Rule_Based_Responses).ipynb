{
  "nbformat": 4,
  "nbformat_minor": 0,
  "metadata": {
    "colab": {
      "provenance": [],
      "authorship_tag": "ABX9TyNLRLU1oT149U2pwBbCclLW",
      "include_colab_link": true
    },
    "kernelspec": {
      "name": "python3",
      "display_name": "Python 3"
    },
    "language_info": {
      "name": "python"
    }
  },
  "cells": [
    {
      "cell_type": "markdown",
      "metadata": {
        "id": "view-in-github",
        "colab_type": "text"
      },
      "source": [
        "<a href=\"https://colab.research.google.com/github/VALAMETIAVINASH/codsoft/blob/main/Task1(ChatBot_with_Rule_Based_Responses).ipynb\" target=\"_parent\"><img src=\"https://colab.research.google.com/assets/colab-badge.svg\" alt=\"Open In Colab\"/></a>"
      ]
    },
    {
      "cell_type": "code",
      "source": [
        "def simple_chatbot(user_input):\n",
        "    user_input = user_input.lower() #Convert user input to lowercase for easier pattern matching\n",
        "\n",
        "    if \"hello chatbot\" in user_input:\n",
        "        return \"Hi there! How can I help you today AVINASH?\"\n",
        "\n",
        "    elif \"how are you\" in user_input:\n",
        "        return \"I'm just a chatbot, but I'm here and ready to assist you AVINASH!\"\n",
        "\n",
        "    elif \"goodbye\" in user_input:\n",
        "        return \"Goodbye! Have a great day AVINASH!\"\n",
        "\n",
        "    elif \"help\" in user_input:\n",
        "        return \"I'm here to assist you. What do you need help with?\"\n",
        "\n",
        "    else:\n",
        "        return \"my bad AVINASH, I don't quite understand. AVINASH can you please rephrase or ask something else?\"\n",
        "\n",
        "# Main loop\n",
        "print(\"Simple Chatbot: Hello AVINASH! Type 'goodbye' to exit.\")\n",
        "while True:\n",
        "\n",
        "    user_input = input(\"You: \")\n",
        "    if user_input.lower() == \"goodbye\":\n",
        "        print(\"Simple Chatbot: Goodbye!\")\n",
        "\n",
        "        break\n",
        "    response = simple_chatbot(user_input)\n",
        "    print(\"Simple Chatbot:\", response)"
      ],
      "metadata": {
        "colab": {
          "base_uri": "https://localhost:8080/"
        },
        "id": "AV-7DwtSnppq",
        "outputId": "8f1d6548-c15c-4156-83e5-c184baa943d0"
      },
      "execution_count": 6,
      "outputs": [
        {
          "output_type": "stream",
          "name": "stdout",
          "text": [
            "Simple Chatbot: Hello AVINASH! Type 'goodbye' to exit.\n",
            "You: goodbye\n",
            "Simple Chatbot: Goodbye!\n"
          ]
        }
      ]
    }
  ]
}